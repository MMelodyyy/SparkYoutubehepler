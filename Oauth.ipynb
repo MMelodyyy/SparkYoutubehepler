{
 "cells": [
  {
   "cell_type": "code",
   "execution_count": 37,
   "metadata": {},
   "outputs": [],
   "source": [
    "from apiclient.discovery import build\n",
    "from google_auth_oauthlib.flow import InstalledAppFlow "
   ]
  },
  {
   "cell_type": "code",
   "execution_count": 38,
   "metadata": {},
   "outputs": [],
   "source": [
    "CLIENT_SECRET_FILE = 'client_secret.json'\n",
    "SCOPES = ['https://www.googleapis.com/auth/youtube.force-ssl']"
   ]
  },
  {
   "cell_type": "code",
   "execution_count": 39,
   "metadata": {},
   "outputs": [
    {
     "name": "stdout",
     "output_type": "stream",
     "text": [
      "Please visit this URL to authorize this application: https://accounts.google.com/o/oauth2/auth?response_type=code&client_id=758971434938-1a0f0k4qgeaga63asa5n30p6g37lhjrr.apps.googleusercontent.com&redirect_uri=urn%3Aietf%3Awg%3Aoauth%3A2.0%3Aoob&scope=https%3A%2F%2Fwww.googleapis.com%2Fauth%2Fyoutube.force-ssl&state=ua8a1J3qEznPw9C0U0kNhOONrBy74A&prompt=consent&access_type=offline\n",
      "Enter the authorization code: 4/ygEgjC78qq4oqKIj8_EPcbWA2Z7NyE2lSLCsJ0Ce9jhKv9nIGt60lF4\n"
     ]
    }
   ],
   "source": [
    "flow = InstalledAppFlow.from_client_secrets_file(CLIENT_SECRET_FILE,SCOPES)\n",
    "credentials = flow.run_console()\n",
    "youtube = build('youtube','v3',credentials = credentials)"
   ]
  },
  {
   "cell_type": "code",
   "execution_count": 42,
   "metadata": {},
   "outputs": [
    {
     "data": {
      "text/plain": [
       "''"
      ]
     },
     "execution_count": 42,
     "metadata": {},
     "output_type": "execute_result"
    }
   ],
   "source": [
    "youtube.videos().rate(rating ='like',id = 'wA10cEfPJTU').execute()"
   ]
  },
  {
   "cell_type": "code",
   "execution_count": 43,
   "metadata": {},
   "outputs": [],
   "source": [
    "# Call the API's commentThreads.insert method to insert a comment.\n",
    "def insert_comment(youtube, channel_id, video_id, text):\n",
    "    insert_result = youtube.commentThreads().insert(\n",
    "        part=\"snippet\",\n",
    "        body=dict(\n",
    "            snippet=dict(\n",
    "                channelId=channel_id,\n",
    "                videoId=video_id,\n",
    "                topLevelComment=dict(\n",
    "                    snippet=dict(\n",
    "                        textOriginal=text)\n",
    "                )\n",
    "            )\n",
    "        )\n",
    "    ).execute()\n",
    "\n",
    "    comment = insert_result[\"snippet\"][\"topLevelComment\"]\n",
    "    author = comment[\"snippet\"][\"authorDisplayName\"]\n",
    "    text = comment[\"snippet\"][\"textDisplay\"]\n",
    "    print(\"Inserted comment for %s: %s\" % (author, text))"
   ]
  },
  {
   "cell_type": "code",
   "execution_count": 44,
   "metadata": {},
   "outputs": [
    {
     "name": "stdout",
     "output_type": "stream",
     "text": [
      "Inserted comment for Melody W: comment with youtuber helper\n"
     ]
    }
   ],
   "source": [
    "insert_comment(youtube, 'UCAUrVQdMzSPXBIhJGjb9okg', 'wA10cEfPJTU',\"comment with youtuber helper\")"
   ]
  },
  {
   "cell_type": "code",
   "execution_count": null,
   "metadata": {},
   "outputs": [],
   "source": []
  }
 ],
 "metadata": {
  "kernelspec": {
   "display_name": "Python 3",
   "language": "python",
   "name": "python3"
  },
  "language_info": {
   "codemirror_mode": {
    "name": "ipython",
    "version": 3
   },
   "file_extension": ".py",
   "mimetype": "text/x-python",
   "name": "python",
   "nbconvert_exporter": "python",
   "pygments_lexer": "ipython3",
   "version": "3.7.6"
  }
 },
 "nbformat": 4,
 "nbformat_minor": 4
}
